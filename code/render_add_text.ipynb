{
 "cells": [
  {
   "cell_type": "code",
   "execution_count": 8,
   "metadata": {},
   "outputs": [
    {
     "data": {
      "text/plain": [
       "<module 'mutils' from 'C:\\\\Users/Pere/Documents/code/utils\\\\mutils\\\\__init__.py'>"
      ]
     },
     "execution_count": 8,
     "metadata": {},
     "output_type": "execute_result"
    }
   ],
   "source": [
    "import os\n",
    "import sys\n",
    "import importlib\n",
    "\n",
    "from PIL import ImageEnhance\n",
    "from PIL import ImageDraw\n",
    "from PIL import Image, ImageDraw, ImageFont\n",
    "import h5py\n",
    "from astropy import units as u\n",
    "\n",
    "import utils as ut\n",
    "import plot_utils as pu\n",
    "\n",
    "utils_fold = \"C:/Users/Pere/Documents/code/utils/\"\n",
    "sys.path.append(utils_fold)\n",
    "import mutils as mut\n",
    "from mutils.plot_utils import Figure\n",
    "from mutils.plot_utils import Figure3D\n",
    "importlib.reload(mut)"
   ]
  },
  {
   "cell_type": "code",
   "execution_count": 35,
   "metadata": {},
   "outputs": [
    {
     "name": "stdout",
     "output_type": "stream",
     "text": [
      "Mass of Particles Type 1:  5.10e+09 Msun\n"
     ]
    }
   ],
   "source": [
    "simulation_name = 'DM-L50-N128'\n",
    "output_folder = 'output_4'\n",
    "\n",
    "snapshot_paths = ut.get_snapshots(f'../data/{simulation_name}/{output_folder}/')\n",
    "M = len(snapshot_paths)\n",
    "\n",
    "file_first = h5py.File(snapshot_paths[0], 'r')\n",
    "\n",
    "zs = [file['Header'].attrs['Redshift'] for file in [h5py.File(snapshot_path, 'r') for snapshot_path in snapshot_paths]]\n",
    "\n",
    "PM0, PM1 = file_first['Header'].attrs['MassTable']\n",
    "\n",
    "PM1 = PM1*ut.M_gadget.to(u.Msun).value\n",
    "\n",
    "print(f'Mass of Particles Type 1:  {PM1:0.2e} Msun')"
   ]
  },
  {
   "cell_type": "code",
   "execution_count": 29,
   "metadata": {},
   "outputs": [],
   "source": [
    "fresx = 1080\n",
    "fresy = 1080\n",
    "\n",
    "\n",
    "fold = f'../blender/render/{simulation_name}/frames/'\n",
    "\n",
    "files = os.listdir(fold)\n",
    "N = len(files)\n",
    "\n",
    "\n",
    "outfold = f'../blender/render/{simulation_name}/frames_text/' \n",
    "if not os.path.exists(outfold):\n",
    "    os.makedirs(outfold)\n",
    "\n",
    "step = 0\n",
    "for i in range(0, N):\n",
    "\n",
    "    image = Image.open(fold+files[i])\n",
    "\n",
    "    font_size = 30\n",
    "    font_path = \"../blender/fonts/Anonymous_Pro.ttf\"\n",
    "    font = ImageFont.truetype(font_path, font_size)\n",
    " \n",
    "    draw = ImageDraw.Draw(image)\n",
    "    text = f'z = {zs[i]:.2f}'\n",
    "    draw.text((20, 15), text, fill='grey', font=font)\n",
    "    # scale draw\n",
    "\n",
    "    # Save or show the collage\n",
    "    image.save(outfold + f'frame_{i:04d}.jpg')\n",
    "\n",
    "    # collage.show()"
   ]
  },
  {
   "cell_type": "code",
   "execution_count": 30,
   "metadata": {},
   "outputs": [],
   "source": [
    "mut.video.png_to_mp4(outfold, fps=15)"
   ]
  },
  {
   "cell_type": "code",
   "execution_count": 2,
   "metadata": {},
   "outputs": [],
   "source": [
    "simulation_name = 'collapsing_sphere_zs'\n",
    "outfold = f'../blender/render/{simulation_name}/frames/'\n",
    "mut.video.png_to_mp4(outfold, fps=30)"
   ]
  },
  {
   "cell_type": "code",
   "execution_count": 17,
   "metadata": {},
   "outputs": [],
   "source": [
    "simulation_name = 'DM-L50-N128'\n",
    "outfold = f'../blender/render/{simulation_name}/frames_text/'\n",
    "text = 'X.com/PeRossello'\n",
    "fontfile = \"../blender/fonts/Anonymous.ttf\"\n",
    "pu.png_to_gif_2(outfold, fps=15,\n",
    "                title='video_watermark', \n",
    "                watermark_text=text, \n",
    "                fontfile=fontfile,\n",
    "                fontsize=14,\n",
    "                fontcolor='#3b3b3b')"
   ]
  },
  {
   "cell_type": "code",
   "execution_count": null,
   "metadata": {},
   "outputs": [],
   "source": []
  }
 ],
 "metadata": {
  "kernelspec": {
   "display_name": "astroenv",
   "language": "python",
   "name": "python3"
  },
  "language_info": {
   "codemirror_mode": {
    "name": "ipython",
    "version": 3
   },
   "file_extension": ".py",
   "mimetype": "text/x-python",
   "name": "python",
   "nbconvert_exporter": "python",
   "pygments_lexer": "ipython3",
   "version": "3.11.8"
  }
 },
 "nbformat": 4,
 "nbformat_minor": 2
}
