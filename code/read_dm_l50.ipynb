{
 "cells": [
  {
   "cell_type": "code",
   "execution_count": 7,
   "metadata": {},
   "outputs": [
    {
     "data": {
      "text/plain": [
       "<module 'mutils' from 'C:\\\\Users/Pere/Documents/code/utils\\\\mutils\\\\__init__.py'>"
      ]
     },
     "execution_count": 7,
     "metadata": {},
     "output_type": "execute_result"
    }
   ],
   "source": [
    "%reload_ext autoreload\n",
    "%autoreload 2\n",
    "\n",
    "import os\n",
    "import sys\n",
    "import importlib\n",
    "import time\n",
    "\n",
    "import numpy as np\n",
    "import matplotlib as mpl\n",
    "import matplotlib.pyplot as plt\n",
    "from astropy import units as u\n",
    "import h5py\n",
    "from scipy.optimize import curve_fit\n",
    "\n",
    "import utils as ut\n",
    "\n",
    "utils_fold = \"C:/Users/Pere/Documents/code/utils/\"\n",
    "sys.path.append(utils_fold)\n",
    "import mutils as mut\n",
    "from mutils.plot_utils import Figure\n",
    "from mutils.plot_utils import Figure3D\n",
    "importlib.reload(mut)"
   ]
  },
  {
   "cell_type": "code",
   "execution_count": 8,
   "metadata": {},
   "outputs": [
    {
     "data": {
      "text/latex": [
       "$1.0000001 \\; \\mathrm{Mpc}$"
      ],
      "text/plain": [
       "<Quantity 1.00000014 Mpc>"
      ]
     },
     "execution_count": 8,
     "metadata": {},
     "output_type": "execute_result"
    }
   ],
   "source": [
    "simulation_name = 'DM-L50-N128'\n",
    "output_folder = 'output_coarse'\n",
    "snaps = ut.get_snapshots(f'../data/{simulation_name}/{output_folder}/')\n",
    "fof_tabs = ut.get_fof_tab(f'../data/{simulation_name}/{output_folder}/')\n",
    "files_fof = [h5py.File(fof_tab, 'r') for fof_tab in fof_tabs]\n",
    "files = [h5py.File(snap, 'r') for snap in snaps]\n",
    "times = [file['Header'].attrs['Time'] for file in files]\n",
    "zs = [file['Header'].attrs['Redshift'] for file in files]\n",
    "_, N1 = files[0]['Header'].attrs['NumPart_ThisFile']\n",
    "M1 = files[0]['Header'].attrs['MassTable'][1] # rest are zero\n",
    "\n",
    "a = files[0]['Parameters'].attrs['UnitLength_in_cm']\n",
    "a = a * u.cm\n",
    "a.to(u.Mpc)"
   ]
  },
  {
   "cell_type": "code",
   "execution_count": 9,
   "metadata": {},
   "outputs": [],
   "source": [
    "time_steps = [0.0, 0.5, 1.]\n",
    "\n",
    "J = len(time_steps)\n",
    "subplots = (1, J)\n",
    "fig_size = 1920\n",
    "ratio = 3\n",
    "ts = 2\n",
    "Fig = Figure(fig_size=fig_size, subplots=subplots, \n",
    "             ratio=ratio, theme='default', \n",
    "             wspace=0.025, hspace=0.05, grid=True,\n",
    "             ts=ts)\n",
    "fs = Fig.fs\n",
    "axes = Fig.axes\n",
    "axes_flat = Fig.axes_flat\n",
    "\n",
    "resolution = 100\n",
    "lim = 50\n",
    "\n",
    "for i, time in enumerate(time_steps):\n",
    "\n",
    "    ax = axes[0][i]\n",
    "\n",
    "    idx = np.argmin(np.abs(np.array(times) - time))\n",
    "    file = files[idx]\n",
    "    PM = M1 * ut.M_gadget.to(u.Msun).value\n",
    "    dh = 2*lim/resolution\n",
    "\n",
    "    time_ = times[idx] * ut.T_gadget.to(u.Gyr).value\n",
    "    z_ = zs[idx]\n",
    "\n",
    "    positions = np.array(file['PartType1']['Coordinates']) \n",
    "\n",
    "    ranges = [(0, lim), (0, lim), (0, lim)]\n",
    "\n",
    "    hist, edges = np.histogramdd(positions[:, :], bins=[resolution]*3, range=ranges)\n",
    "    hist = hist * PM / dh**2\n",
    "\n",
    "    projection = np.log(np.sum(hist, axis=2))\n",
    "\n",
    "    ax.imshow((projection.T)[::-1,:], cmap='gnuplot', \n",
    "                extent=[-lim, lim, -lim, lim],\n",
    "                vmin=26, vmax=31\n",
    "                )\n",
    "    \n",
    "    if i == J-1:\n",
    "        # add colorbar to ax\n",
    "        cax = ax.inset_axes([1.05, 0.01, 0.075, 0.975])\n",
    "        cax.tick_params(labelsize=ts*fs,\n",
    "                        size=0.5*fs, width=0.15*fs,\n",
    "                        pad=0.1*fs)\n",
    "        cbar = plt.colorbar(cax=cax, mappable=ax.images[0], orientation='vertical')\n",
    "        cbar.set_label(r'$\\log \\sigma$ [M$_\\odot$ Mpc$^{-2} h^{2}$]', fontsize=fs*ts)\n",
    "\n",
    "    if i == 0:\n",
    "        ax.set_ylabel('y [Mpc $h^{-1}$]', fontsize=fs*ts)\n",
    "    else:\n",
    "        ax.tick_params(axis='y', labelleft=False)\n",
    "\n",
    "    ax.set_xlabel('x [Mpc $h^{-1}$]', fontsize=fs*ts)\n",
    "\n",
    "    ax.set_title(f'$z={z_:0.2f}, \\ t={time_:0.2f}$ Gyr', fontsize=fs*ts,\n",
    "                    pad=2*fs)\n",
    "\n",
    "for ax in axes_flat:\n",
    "    ax.set_facecolor('black')\n",
    "    ax.grid(color='white',alpha=0.2)\n",
    "\n",
    "bbox_inches = 'tight'\n",
    "savepath = f'../figures/{simulation_name}/figure_1.jpg'\n",
    "Fig.save(savepath, bbox_inches=bbox_inches)\n",
    "plt.close()"
   ]
  },
  {
   "cell_type": "code",
   "execution_count": 131,
   "metadata": {},
   "outputs": [
    {
     "data": {
      "text/plain": [
       "array([882.27246 , 212.9272  , 158.4219  , ...,  16.300646,  15.791251,\n",
       "        11.716089], dtype=float32)"
      ]
     },
     "execution_count": 131,
     "metadata": {},
     "output_type": "execute_result"
    }
   ],
   "source": [
    "np.array(files_fof[0]['Subhalo']['SubhaloMass'])"
   ]
  },
  {
   "cell_type": "code",
   "execution_count": 5,
   "metadata": {},
   "outputs": [
    {
     "name": "stdout",
     "output_type": "stream",
     "text": [
      "7.79e+10, 6.80e+12\n",
      "7.79e+10, 2.47e+13\n",
      "7.79e+10, 7.34e+13\n"
     ]
    },
    {
     "name": "stderr",
     "output_type": "stream",
     "text": [
      "c:\\Users\\Pere\\Documents\\ULL\\subjects\\q2\\tecnicas_simulacion_numerica\\gadget4_project\\code\\utils.py:113: RuntimeWarning: overflow encountered in power\n",
      "  return phi_star * (M/M_star)**(alpha) * np.exp(-M/M_star)\n"
     ]
    }
   ],
   "source": [
    "ts = 3\n",
    "Fig = Figure(fig_size=1920,\n",
    "             ratio=2, theme='default', \n",
    "             wspace=0.025, hspace=0.05, grid=True,\n",
    "             ts=ts)\n",
    "fs = Fig.fs\n",
    "ax = Fig.axes_flat[0]\n",
    "\n",
    "n_bins = 22\n",
    "\n",
    "cs = ['k', 'dimgrey', 'darkgrey']\n",
    "cs2 = ['k', 'dimgrey', 'darkgrey']\n",
    "fits = []\n",
    "mins, maxs = [], []\n",
    "for i in range(3):\n",
    "\n",
    "    file_fof = files_fof[i]\n",
    "    NH = file_fof['Header'].attrs['Ngroups_ThisFile']  # number of halos\n",
    "    NSH = file_fof['Header'].attrs['Nsubhalos_ThisFile']  # number of subhalos\n",
    "    N_SH_per_H = np.array(file_fof['Group']['GroupNsubs'])  # (array) number of subhalos per halo\n",
    "    M_per_SH = np.array(file_fof['Subhalo']['SubhaloMass'])  # (array) mass of halos\n",
    "\n",
    "    M_per_H_units = M_per_SH * M1 * ut.M_gadget.to(u.Msun).value \n",
    "\n",
    "    minM = np.min(M_per_H_units)*1.5\n",
    "    maxM = np.max(M_per_H_units)\n",
    "                \n",
    "    print(f'{minM:0.2e}, {maxM:0.2e}')\n",
    "\n",
    "    lims = np.array([minM, maxM])\n",
    "    bins = np.logspace(np.log10(minM), np.log10(maxM), n_bins)\n",
    "\n",
    "    hist, edges = np.histogram(M_per_H_units, bins=bins)\n",
    "\n",
    "    z_ = zs[i]\n",
    "    volume = 50**3\n",
    "    n_distr = hist / volume\n",
    "    ax.plot(edges[:-1], n_distr, \n",
    "           lw=0.5*fs, \n",
    "           color=cs[i], \n",
    "           label=f'$z={z_:0.0f}$',\n",
    "           )\n",
    "    \n",
    "    phi_star_guess, M_guess, alpha_guess = 1e-2 / volume , 5e10, -1\n",
    "    popt, pcov = curve_fit(ut.schechter_mf, edges[:-1], n_distr, p0=[phi_star_guess, M_guess, alpha_guess],\n",
    "                           maxfev=10000\n",
    "                           )\n",
    "    fits.append(popt)\n",
    "\n",
    "    sch_arr = ut.schechter_mf(bins, *popt)\n",
    "    ax.plot(bins, sch_arr, \n",
    "            lw=0.5*fs, \n",
    "            color=cs2[i], \n",
    "            ls=':',\n",
    "            )\n",
    "\n",
    "# set log scale\n",
    "ax.set_xscale('log')\n",
    "ax.set_yscale('log')\n",
    "\n",
    "# set labels\n",
    "ax.set_xlabel(r'$M_\\text{halo} \\ [\\text{M}_{\\! \\odot} \\, h^{-1}]$', fontsize=fs*ts)\n",
    "ax.set_ylabel(r'$n$ [$\\text{M}_{\\! \\odot}^{-1} \\, \\text{Mpc}^{-3} \\, h^4 $]', fontsize=fs*ts)\n",
    "\n",
    "# set legend\n",
    "ax.legend(fontsize=fs*ts, loc='upper right')\n",
    "\n",
    "ax.set_xlim(minM, edges[-2])\n",
    "ax.set_ylim(5e-6, 1e-2)\n",
    "\n",
    "\n",
    "bbox_inches = 'tight'\n",
    "savepath = f'../figures/{simulation_name}/figure_2.jpg'\n",
    "Fig.save(savepath, bbox_inches=bbox_inches)\n",
    "plt.close()"
   ]
  },
  {
   "cell_type": "code",
   "execution_count": null,
   "metadata": {},
   "outputs": [],
   "source": []
  }
 ],
 "metadata": {
  "kernelspec": {
   "display_name": "astroenv",
   "language": "python",
   "name": "python3"
  },
  "language_info": {
   "codemirror_mode": {
    "name": "ipython",
    "version": 3
   },
   "file_extension": ".py",
   "mimetype": "text/x-python",
   "name": "python",
   "nbconvert_exporter": "python",
   "pygments_lexer": "ipython3",
   "version": "3.11.8"
  }
 },
 "nbformat": 4,
 "nbformat_minor": 2
}
