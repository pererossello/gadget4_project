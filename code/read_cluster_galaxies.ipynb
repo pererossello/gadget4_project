{
 "cells": [
  {
   "cell_type": "code",
   "execution_count": 1,
   "metadata": {},
   "outputs": [
    {
     "data": {
      "text/plain": [
       "<module 'mutils' from 'C:\\\\Users/Pere/Documents/code/utils\\\\mutils\\\\__init__.py'>"
      ]
     },
     "execution_count": 1,
     "metadata": {},
     "output_type": "execute_result"
    }
   ],
   "source": [
    "%reload_ext autoreload\n",
    "%autoreload 2\n",
    "\n",
    "import os\n",
    "import sys\n",
    "import importlib\n",
    "import time\n",
    "\n",
    "import numpy as np\n",
    "import matplotlib as mpl\n",
    "import matplotlib.pyplot as plt\n",
    "from astropy import units as u\n",
    "import h5py\n",
    "from scipy.optimize import curve_fit\n",
    "\n",
    "import utils as ut\n",
    "\n",
    "utils_fold = \"C:/Users/Pere/Documents/code/utils/\"\n",
    "sys.path.append(utils_fold)\n",
    "import mutils as mut\n",
    "from mutils.plot_utils import Figure\n",
    "from mutils.plot_utils import Figure3D\n",
    "importlib.reload(mut)"
   ]
  },
  {
   "cell_type": "markdown",
   "metadata": {},
   "source": [
    "We focus only on the PartType1, the highest resolution part of the simulation"
   ]
  },
  {
   "cell_type": "code",
   "execution_count": 2,
   "metadata": {},
   "outputs": [],
   "source": [
    "simulation_name = 'galaxy_cluster'\n",
    "output_folder = 'output'\n",
    "snaps = ut.get_snapshots(f'../data/{simulation_name}/{output_folder}/')\n",
    "files = [h5py.File(snap, 'r') for snap in snaps]\n",
    "times = [file['Header'].attrs['Time'] for file in files]\n",
    "zs = [file['Header'].attrs['Redshift'] for file in files]\n",
    "_, N1, N2, N3 = files[0]['Header'].attrs['NumPart_ThisFile']\n",
    "M1 = files[0]['Header'].attrs['MassTable'][1] # rest are zero\n",
    "# M2_list_arr = [np.array(file['PartType2']['Masses']) for file in files]\n",
    "# M3_list_arr = [np.array(file['PartType3']['Masses']) for file in files]"
   ]
  },
  {
   "cell_type": "code",
   "execution_count": 4,
   "metadata": {},
   "outputs": [
    {
     "name": "stderr",
     "output_type": "stream",
     "text": [
      "C:\\Users\\Pere\\AppData\\Local\\Temp\\ipykernel_7068\\1937750374.py:38: RuntimeWarning: divide by zero encountered in log\n",
      "  projection = np.log(np.sum(hist, axis=2))\n"
     ]
    }
   ],
   "source": [
    "time_steps = [0.0, 0.5, 1.]\n",
    "\n",
    "J = len(time_steps)\n",
    "subplots = (1, J)\n",
    "fig_size = 1920\n",
    "ratio = 3\n",
    "ts = 2\n",
    "Fig = Figure(fig_size=fig_size, subplots=subplots, \n",
    "             ratio=ratio, theme='default', \n",
    "             wspace=0.025, hspace=0.05, grid=True,\n",
    "             ts=ts)\n",
    "fs = Fig.fs\n",
    "axes = Fig.axes\n",
    "axes_flat = Fig.axes_flat\n",
    "\n",
    "resolution = 100\n",
    "lim = 19\n",
    "\n",
    "for i, time in enumerate(time_steps):\n",
    "\n",
    "    ax = axes[0][i]\n",
    "\n",
    "    idx = np.argmin(np.abs(np.array(times) - time))\n",
    "    file = files[idx]\n",
    "    PM = M1 * ut.M_gadget.to(u.Msun).value\n",
    "    dh = 2*lim/resolution\n",
    "\n",
    "    time_ = times[idx] * ut.T_gadget.to(u.Gyr).value\n",
    "    z_ = zs[idx]\n",
    "\n",
    "    positions = np.array(file['PartType1']['Coordinates']) / 1e3\n",
    "\n",
    "    ranges = [(-lim, lim), (-lim, lim), (-lim, lim)]\n",
    "\n",
    "    hist, edges = np.histogramdd(positions[:, :], bins=[resolution]*3, range=ranges)\n",
    "    hist = hist * PM / dh**2\n",
    "\n",
    "    projection = np.log(np.sum(hist, axis=2))\n",
    "\n",
    "    ax.imshow((projection.T)[::-1,:], cmap='gnuplot', \n",
    "                extent=[-lim, lim, -lim, lim],\n",
    "                vmin=25, vmax=34\n",
    "                )\n",
    "    \n",
    "    if i == J-1:\n",
    "        # add colorbar to ax\n",
    "        cax = ax.inset_axes([1.05, 0.01, 0.075, 0.975])\n",
    "        cax.tick_params(labelsize=ts*fs,\n",
    "                        size=0.5*fs, width=0.15*fs,\n",
    "                        pad=0.1*fs)\n",
    "        cbar = plt.colorbar(cax=cax, mappable=ax.images[0], orientation='vertical')\n",
    "        cbar.set_label(r'$\\log \\sigma$ [M$_\\odot$ Mpc$^{-2} \\, h^{2}$]', fontsize=fs*ts)\n",
    "\n",
    "    if i == 0:\n",
    "        ax.set_ylabel('y [Mpc $h^{-1}$]', fontsize=fs*ts)\n",
    "    else:\n",
    "        ax.tick_params(axis='y', labelleft=False)\n",
    "\n",
    "    ax.set_xlabel('x [Mpc $h^{-1}$]', fontsize=fs*ts)\n",
    "\n",
    "    ax.set_title(f'$z={z_:0.2f}, \\ t={time_:0.2f}$ Gyr', fontsize=fs*ts,\n",
    "                    pad=2*fs)\n",
    "\n",
    "for ax in axes_flat:\n",
    "    ax.set_facecolor('black')\n",
    "    ax.grid(color='white',alpha=0.2)\n",
    "\n",
    "bbox_inches = 'tight'\n",
    "savepath = f'../figures/{simulation_name}/figure_1.jpg'\n",
    "Fig.save(savepath, bbox_inches=bbox_inches)\n",
    "plt.close()\n"
   ]
  },
  {
   "cell_type": "code",
   "execution_count": 5,
   "metadata": {},
   "outputs": [
    {
     "name": "stdout",
     "output_type": "stream",
     "text": [
      "[3.74243732e+14 4.98684705e-01]\n"
     ]
    },
    {
     "name": "stderr",
     "output_type": "stream",
     "text": [
      "c:\\Users\\Pere\\Documents\\ULL\\subjects\\q2\\tecnicas_simulacion_numerica\\gadget4_project\\code\\utils.py:80: RuntimeWarning: divide by zero encountered in divide\n",
      "  return rho_s / (x * (1 + x)**2)\n",
      "C:\\Users\\Pere\\AppData\\Local\\Temp\\ipykernel_34648\\2925416913.py:46: RuntimeWarning: invalid value encountered in divide\n",
      "  residual = (density - nfw_profile_arr)/nfw_profile_arr\n"
     ]
    }
   ],
   "source": [
    "lims = [None, 40, 30, 20, 10, 5, 2]\n",
    "\n",
    "rang = 20\n",
    "bins = 100\n",
    "rs = np.linspace(0, rang, bins)\n",
    "\n",
    "mass = np.zeros(bins-1)\n",
    "file = files[-1]\n",
    "PM = M1 * ut.M_gadget.to(u.Msun).value\n",
    "positions = np.array(file['PartType1']['Coordinates']) / 1e3\n",
    "cm = ut.compute_recursive_cm(positions, lims=lims)\n",
    "r = np.linalg.norm(positions-cm, axis=1)\n",
    "\n",
    "hist, edges = np.histogram(r, bins=bins, range=(0, rang), density=False)\n",
    "rs_ = (edges[:-1] + edges[1:]) / 2\n",
    "dr = edges[1] - edges[0]\n",
    "vol_el = 4*np.pi*(edges[1:]**3 - edges[:-1]**3) / 3\n",
    "density = hist / vol_el * PM\n",
    "\n",
    "for j in range(len(rs)-1):\n",
    "    n = np.sum(r < rs[j])\n",
    "    mass[j] = n * PM\n",
    "\n",
    "\n",
    "rho_guess = mass[-1] / (4/3 * np.pi * r[-10]**3)\n",
    "r_guess = r[-1]\n",
    "\n",
    "popt, pcov = curve_fit(ut.NFW_mass_profile, rs[:-1], mass, p0=[rho_guess, r_guess])\n",
    "print(popt)\n",
    "\n",
    "nfw_profile_arr = ut.NFW_density_profile(edges[:-1], *popt)\n",
    "\n",
    "ts = 2.5\n",
    "Fig = Figure(fig_size=1080, subplots=(2,1), ratio=1.5, theme='default', ts=ts, height_ratios=[1, 0.4], hspace=0.)\n",
    "ax = Fig.axes_flat[0]\n",
    "ax2 = Fig.axes_flat[1]\n",
    "fs = Fig.fs\n",
    "lw = 0.4\n",
    "leg_el_1, leg_el_2 =  [], []\n",
    "labels1 = ['$\\\\rho_{\\\\text{rdm}}$ ($z=0$)', '$\\\\rho_{\\\\text{grid}}$ ($z=0$)',]\n",
    "labels2 = ['NFW fit $(\\\\rho_{\\\\text{rdm}})$', 'NFW fit $(\\\\rho_{\\\\text{grid}})$',]\n",
    "\n",
    "ax.plot(edges[:-1], nfw_profile_arr, lw=lw*fs, c='dimgrey', ls='dotted', label=r'$\\rho_{\\text{fit}}$')\n",
    "ax.plot(edges[:-1], density[:], lw=lw*fs, c='k', ls='-', label=r'$\\rho$')\n",
    "\n",
    "residual = (density - nfw_profile_arr)/nfw_profile_arr\n",
    "line2, = ax2.plot(edges[:-1], residual, lw=lw*fs, c='k', ls='-')\n",
    "\n",
    "\n",
    "x0, y0 = 0.025, 0.15\n",
    "dx, dy = .3, .13\n",
    "num1 = ut.format_scientific(popt[0], 2)\n",
    "ax.text(x0, y0, f'$\\\\rho_s =$ {num1}',\n",
    "        fontsize=fs*ts, ha='left', va='center', transform=ax.transAxes, color='k')\n",
    "\n",
    "num2 = ut.format_scientific(popt[1], 2)\n",
    "ax.text(x0, y0 - dy, f'$r_s =$ {num2}',\n",
    "        fontsize=fs*ts, ha='left', va='bottom', transform=ax.transAxes, color='k')\n",
    "\n",
    "\n",
    "sc=1.1\n",
    "ax.set_ylabel(r'$\\log \\rho$ [$\\text{M}_{\\! \\odot} \\, \\text{Mpc}^{-3}$]', fontsize=fs*ts*sc)\n",
    "ax2.set_ylabel(r'$(\\rho - \\rho_{\\text{fit}})/\\rho_{\\text{fit}}$', fontsize=fs*ts*sc)\n",
    "ax2.set_xlabel('$r$ [kpc]', fontsize=fs*ts*sc)\n",
    "\n",
    "for ax_ in [ax, ax2]:\n",
    "    ax_.set_xlim(edges[1], edges[-1])\n",
    "    ax.set_yscale('log')\n",
    "    ax_.set_xscale('log')    \n",
    "ax.tick_params(axis='x', labelbottom=False)\n",
    "\n",
    "# set legend in ax\n",
    "ax.legend(loc='upper right', fontsize=fs*ts, frameon=True)\n",
    "\n",
    "bbox_inches = 'tight'\n",
    "savepath = f'../figures/{simulation_name}/figure_2.jpg'\n",
    "Fig.save(savepath, bbox_inches=bbox_inches)\n",
    "plt.close()"
   ]
  }
 ],
 "metadata": {
  "kernelspec": {
   "display_name": "astroenv",
   "language": "python",
   "name": "python3"
  },
  "language_info": {
   "codemirror_mode": {
    "name": "ipython",
    "version": 3
   },
   "file_extension": ".py",
   "mimetype": "text/x-python",
   "name": "python",
   "nbconvert_exporter": "python",
   "pygments_lexer": "ipython3",
   "version": "3.11.8"
  }
 },
 "nbformat": 4,
 "nbformat_minor": 2
}
